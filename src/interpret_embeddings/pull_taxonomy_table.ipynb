{
 "cells": [
  {
   "cell_type": "code",
   "execution_count": 2,
   "id": "38f58de1",
   "metadata": {},
   "outputs": [
    {
     "name": "stderr",
     "output_type": "stream",
     "text": [
      "c:\\Users\\AABer\\miniconda3\\Lib\\site-packages\\tqdm\\auto.py:21: TqdmWarning: IProgress not found. Please update jupyter and ipywidgets. See https://ipywidgets.readthedocs.io/en/stable/user_install.html\n",
      "  from .autonotebook import tqdm as notebook_tqdm\n",
      "c:\\Users\\AABer\\miniconda3\\Lib\\site-packages\\numba\\np\\ufunc\\dufunc.py:344: NumbaWarning: \u001b[1mCompilation requested for previously compiled argument types ((uint32,)). This has no effect and perhaps indicates a bug in the calling code (compiling a ufunc more than once for the same signature\u001b[0m\n",
      "  warnings.warn(msg, errors.NumbaWarning)\n",
      "c:\\Users\\AABer\\miniconda3\\Lib\\site-packages\\numba\\np\\ufunc\\dufunc.py:344: NumbaWarning: \u001b[1mCompilation requested for previously compiled argument types ((uint32,)). This has no effect and perhaps indicates a bug in the calling code (compiling a ufunc more than once for the same signature\u001b[0m\n",
      "  warnings.warn(msg, errors.NumbaWarning)\n",
      "c:\\Users\\AABer\\miniconda3\\Lib\\site-packages\\numba\\np\\ufunc\\dufunc.py:344: NumbaWarning: \u001b[1mCompilation requested for previously compiled argument types ((uint32,)). This has no effect and perhaps indicates a bug in the calling code (compiling a ufunc more than once for the same signature\u001b[0m\n",
      "  warnings.warn(msg, errors.NumbaWarning)\n"
     ]
    },
    {
     "name": "stdout",
     "output_type": "stream",
     "text": [
      "Hominidae\n"
     ]
    }
   ],
   "source": [
    "import taxopy\n",
    "import os\n",
    "import sklearn.datasets\n",
    "import pandas as pd\n",
    "import numpy as np\n",
    "import umap\n",
    "import umap.plot\n",
    "import matplotlib.pyplot as plt\n",
    "\n",
    "\n",
    "tax_path = '../../data/taxonomy/'\n",
    "\n",
    "os.makedirs(tax_path, exist_ok=True)\n",
    "\n",
    "taxdb = taxopy.TaxDb(taxdb_dir=tax_path, keep_files=True)\n",
    "\n",
    "taxon = taxopy.Taxon(taxid=9606, taxdb=taxdb)\n",
    "print(taxon.rank_name_dictionary['family'])"
   ]
  },
  {
   "cell_type": "code",
   "execution_count": 3,
   "id": "3838c31c",
   "metadata": {},
   "outputs": [
    {
     "data": {
      "image/png": "[encoded data removed]",
      "text/plain": [
       "<Figure size 800x800 with 1 Axes>"
      ]
     },
     "metadata": {},
     "output_type": "display_data"
    }
   ],
   "source": [
    "data, labels, id_to_name = np.load('../../data/processed_data/genome_embeddings.npz').values()\n",
    "\n",
    "genome_lookup_table = pd.read_csv('../../data/raw_proteomes/ncbi_dataset/data/data_summary.tsv', sep='\\t')\n",
    "id_to_taxid = dict(zip(genome_lookup_table['Assembly Accession'], genome_lookup_table['Taxonomy id']))\n",
    "\n",
    "def lookup_taxid(assembly_id, lookup_level='family'):\n",
    "    taxid = id_to_taxid[assembly_id]\n",
    "    taxon = taxopy.Taxon(taxid=taxid, taxdb=taxdb)\n",
    "    return taxon.rank_name_dictionary[lookup_level]\n",
    "\n",
    "\n",
    "mapper = umap.UMAP().fit(data)\n",
    "umap.plot.points(mapper, labels=np.array([lookup_taxid(x, 'class') for x in labels]))\n",
    "\n",
    "plt.show()"
   ]
  },
  {
   "cell_type": "markdown",
   "id": "a6d22ced",
   "metadata": {},
   "source": []
  },
  {
   "cell_type": "code",
   "execution_count": 34,
   "id": "d02723fa",
   "metadata": {},
   "outputs": [
    {
     "name": "stdout",
     "output_type": "stream",
     "text": [
      "OrderedDict({'species': 'Homo sapiens', 'genus': 'Homo', 'subfamily': 'Homininae', 'family': 'Hominidae', 'superfamily': 'Hominoidea', 'parvorder': 'Catarrhini', 'infraorder': 'Simiiformes', 'suborder': 'Haplorrhini', 'order': 'Primates', 'superorder': 'Euarchontoglires', 'clade': 'Opisthokonta', 'class': 'Mammalia', 'superclass': 'Sarcopterygii', 'subphylum': 'Craniata', 'phylum': 'Chordata', 'kingdom': 'Metazoa', 'domain': 'Eukaryota', 'cellular root': 'cellular organisms'})\n"
     ]
    }
   ],
   "source": [
    "taxon = taxopy.Taxon(taxid=9606, taxdb=taxdb)\n",
    "print(taxon.rank_name_dictionary)"
   ]
  },
  {
   "cell_type": "code",
   "execution_count": 15,
   "id": "415d9fe5",
   "metadata": {},
   "outputs": [
    {
     "name": "stdout",
     "output_type": "stream",
     "text": [
      "[('olive baboon', 0.290523886680603), ('gray mouse lemur', 0.3141386806964874), ('goat', 0.3264353275299072), ('Ryukyu mouse', 0.3272881805896759), ('sheep', 0.35259076952934265)]\n"
     ]
    }
   ],
   "source": [
    "from sklearn.neighbors import NearestNeighbors\n",
    "\n",
    "def setup_nn_search(data, labels):\n",
    "    id_to_index = {id_: idx for idx, id_ in enumerate(labels)}\n",
    "    nn_model = NearestNeighbors(n_neighbors=10, algorithm='auto').fit(data)\n",
    "    return nn_model, id_to_index\n",
    "\n",
    "nn_model, id_to_index = setup_nn_search(data, id_to_name)\n",
    "\n",
    "def get_nearest_neighbors(assembly_id, n=5):\n",
    "    idx = id_to_index[assembly_id]\n",
    "    distances, indices = nn_model.kneighbors([data[idx]], n_neighbors=n+1)\n",
    "    neighbors = [(id_to_name[i], distances[0][j]) for j, i in enumerate(indices[0]) if i != idx]\n",
    "    return neighbors\n",
    "\n",
    "def get_nearest_neighbors_vec(vector, n=5):\n",
    "    distances, indices = nn_model.kneighbors([vector], n_neighbors=n)\n",
    "    neighbors = [(id_to_name[i], distances[0][j]) for j, i in enumerate(indices[0])]\n",
    "    return neighbors\n",
    "\n",
    "print(get_nearest_neighbors('pig', n=5))"
   ]
  },
  {
   "cell_type": "code",
   "execution_count": 24,
   "id": "576b314d",
   "metadata": {},
   "outputs": [
    {
     "name": "stdout",
     "output_type": "stream",
     "text": [
      "[('sheep', 0.3706660270690918), ('olive baboon', 0.37917613983154297), ('shrew mouse', 0.3917390704154968), ('goat', 0.42721402645111084), ('pig', 0.5095683932304382)]\n"
     ]
    }
   ],
   "source": [
    "def get_vector(name):\n",
    "    idx = id_to_index[name]\n",
    "    return data[idx]\n",
    "\n",
    "print(get_nearest_neighbors_vec((get_vector('olive baboon') - get_vector('chimpanzee') + get_vector('sheep')), n=5))"
   ]
  },
  {
   "cell_type": "code",
   "execution_count": 18,
   "id": "a74e31a5",
   "metadata": {},
   "outputs": [
    {
     "name": "stdout",
     "output_type": "stream",
     "text": [
      "['chimpanzee' 'zebrafish' 'red flour beetle' 'pig' 'gray mouse lemur'\n",
      " 'olive baboon' 'Mexican tetra' 'northern pike' 'Japanese quail'\n",
      " 'African clawed frog' 'goat' 'eastern oyster' 'helmeted guineafowl'\n",
      " 'rainbow trout' 'yellow fever mosquito' 'Japanese medaka' 'nan' 'sheep'\n",
      " 'southern platyfish' 'Ryukyu mouse' 'shrew mouse']\n"
     ]
    }
   ],
   "source": [
    "print(id_to_name)"
   ]
  },
  {
   "cell_type": "code",
   "execution_count": null,
   "id": "698b852a",
   "metadata": {},
   "outputs": [],
   "source": []
  }
 ],
 "metadata": {
  "kernelspec": {
   "display_name": "base",
   "language": "python",
   "name": "python3"
  },
  "language_info": {
   "codemirror_mode": {
    "name": "ipython",
    "version": 3
   },
   "file_extension": ".py",
   "mimetype": "text/x-python",
   "name": "python",
   "nbconvert_exporter": "python",
   "pygments_lexer": "ipython3",
   "version": "3.13.2"
  }
 },
 "nbformat": 4,
 "nbformat_minor": 5
}
